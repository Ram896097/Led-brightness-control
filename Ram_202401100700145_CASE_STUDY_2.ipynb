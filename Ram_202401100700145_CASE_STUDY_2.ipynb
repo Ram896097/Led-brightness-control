{
  "nbformat": 4,
  "nbformat_minor": 0,
  "metadata": {
    "colab": {
      "provenance": [],
      "authorship_tag": "ABX9TyM9xdSFgNu3NkBr6r5M6Huc",
      "include_colab_link": true
    },
    "kernelspec": {
      "name": "python3",
      "display_name": "Python 3"
    },
    "language_info": {
      "name": "python"
    }
  },
  "cells": [
    {
      "cell_type": "markdown",
      "metadata": {
        "id": "view-in-github",
        "colab_type": "text"
      },
      "source": [
        "<a href=\"https://colab.research.google.com/github/Ram896097/Led-brightness-control/blob/main/Ram_202401100700145_CASE_STUDY_2.ipynb\" target=\"_parent\"><img src=\"https://colab.research.google.com/assets/colab-badge.svg\" alt=\"Open In Colab\"/></a>"
      ]
    },
    {
      "cell_type": "code",
      "source": [
        "import matplotlib.pyplot as plt\n",
        "import matplotlib.patches as patches\n",
        "import time\n",
        "brightness = 0.5\n",
        "fig, ax = plt.subplots()\n",
        "ax.set_xlim(0, 1)\n",
        "ax.set_ylim(0, 1)\n",
        "ax.set_aspect('equal')\n",
        "plt.ion()\n",
        "ax.clear()\n",
        "rgb = (brightness, brightness, 0)\n",
        "led = patches.Circle((0.5, 0.5), 0.3, color=rgb)\n",
        "ax.add_patch(led)\n",
        "plt.draw()\n",
        "plt.pause(0.1)\n",
        "print(\"To increase the brightness enter i , to decrease the brightness enter d , and to exit enter q.\")\n",
        "while True:\n",
        "    user_input = input(\"Choice:- \").lower()\n",
        "    if user_input == 'i':\n",
        "        brightness = min(brightness + 0.1, 1.0)\n",
        "    elif user_input == 'd':\n",
        "        brightness = max(brightness - 0.1, 0.0)\n",
        "    elif user_input == 'q':\n",
        "        break\n",
        "    else:\n",
        "        print(\"Invalid input. Please enter 'i', 'd', or 'q'.\")\n",
        "    ax.clear()\n",
        "    rgb = (brightness, brightness, 0)\n",
        "    led = patches.Circle((0.5, 0.5), 0.3, color=rgb)\n",
        "    ax.add_patch(led)\n",
        "    plt.draw()\n",
        "    plt.pause(0.1)\n",
        "\n",
        "plt.ioff()\n",
        "plt.show()"
      ],
      "metadata": {
        "id": "wXjXLBkxDboX"
      },
      "execution_count": null,
      "outputs": []
    }
  ]
}